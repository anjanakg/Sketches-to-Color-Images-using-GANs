{
 "cells": [
  {
   "cell_type": "code",
   "execution_count": 1,
   "id": "6c9aa42e",
   "metadata": {},
   "outputs": [],
   "source": [
    "import cv2\n",
    "import glob\n",
    "import numpy\n",
    "import os\n",
    "import matplotlib.pyplot as plt\n",
    "plt.style.use('seaborn')"
   ]
  },
  {
   "cell_type": "code",
   "execution_count": 3,
   "id": "48f08799",
   "metadata": {},
   "outputs": [],
   "source": [
    "for filename in glob.glob(r'<path>\\New folder (3)\\*.jpg'):\n",
    "    newFolder = r'<path>\\New folder (2)'\n",
    "    imgPath = './forest.jpg'\n",
    "    img=cv2.imread(filename) \n",
    "    img = cv2.cvtColor(img,cv2.COLOR_BGR2RGB)\n",
    "    img_gray = cv2.cvtColor(img, cv2.COLOR_BGR2GRAY)\n",
    "    img_invert = cv2.bitwise_not(img_gray)\n",
    "    img_smoothing = cv2.GaussianBlur(img_invert, (21, 21),sigmaX=0, sigmaY=0)\n",
    "    final = cv2.divide(img_gray, 255 - img_smoothing, scale=255)\n",
    "    grayImageBGRspace = cv2.cvtColor(final,cv2.COLOR_GRAY2BGR)\n",
    "    horizontalAppendedIGrayImg = numpy.hstack((cv2.cvtColor(img, cv2.COLOR_BGR2RGB), grayImageBGRspace))\n",
    "    #cv2.imwrite(f'{filename}_concat.jpg', horizontalAppendedIGrayImg)\n",
    "    cv2.imwrite(os.path.join( newFolder, os.path.basename(filename)) , horizontalAppendedIGrayImg)\n",
    "    #rl=cv2.resize(img, (500,500))\n",
    "    #gray_image = cv2.cvtColor(rl, cv2.COLOR_BGR2GRAY)"
   ]
  }
 ],
 "metadata": {
  "kernelspec": {
   "display_name": "Python 3",
   "language": "python",
   "name": "python3"
  },
  "language_info": {
   "codemirror_mode": {
    "name": "ipython",
    "version": 3
   },
   "file_extension": ".py",
   "mimetype": "text/x-python",
   "name": "python",
   "nbconvert_exporter": "python",
   "pygments_lexer": "ipython3",
   "version": "3.8.8"
  }
 },
 "nbformat": 4,
 "nbformat_minor": 5
}
